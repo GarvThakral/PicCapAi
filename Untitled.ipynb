{
 "cells": [
  {
   "cell_type": "code",
   "execution_count": 1,
   "id": "b403340d-09eb-4e6b-b426-99e232db8d58",
   "metadata": {
    "scrolled": true
   },
   "outputs": [
    {
     "name": "stderr",
     "output_type": "stream",
     "text": [
      "2025-06-06 23:20:04.700319: I external/local_xla/xla/tsl/cuda/cudart_stub.cc:32] Could not find cuda drivers on your machine, GPU will not be used.\n",
      "2025-06-06 23:20:04.704628: I external/local_xla/xla/tsl/cuda/cudart_stub.cc:32] Could not find cuda drivers on your machine, GPU will not be used.\n",
      "2025-06-06 23:20:04.713578: E external/local_xla/xla/stream_executor/cuda/cuda_fft.cc:467] Unable to register cuFFT factory: Attempting to register factory for plugin cuFFT when one has already been registered\n",
      "WARNING: All log messages before absl::InitializeLog() is called are written to STDERR\n",
      "E0000 00:00:1749232204.726302  170782 cuda_dnn.cc:8579] Unable to register cuDNN factory: Attempting to register factory for plugin cuDNN when one has already been registered\n",
      "E0000 00:00:1749232204.730051  170782 cuda_blas.cc:1407] Unable to register cuBLAS factory: Attempting to register factory for plugin cuBLAS when one has already been registered\n",
      "W0000 00:00:1749232204.741875  170782 computation_placer.cc:177] computation placer already registered. Please check linkage and avoid linking the same target more than once.\n",
      "W0000 00:00:1749232204.741890  170782 computation_placer.cc:177] computation placer already registered. Please check linkage and avoid linking the same target more than once.\n",
      "W0000 00:00:1749232204.741891  170782 computation_placer.cc:177] computation placer already registered. Please check linkage and avoid linking the same target more than once.\n",
      "W0000 00:00:1749232204.741893  170782 computation_placer.cc:177] computation placer already registered. Please check linkage and avoid linking the same target more than once.\n",
      "2025-06-06 23:20:04.745678: I tensorflow/core/platform/cpu_feature_guard.cc:210] This TensorFlow binary is optimized to use available CPU instructions in performance-critical operations.\n",
      "To enable the following instructions: AVX2 FMA, in other operations, rebuild TensorFlow with the appropriate compiler flags.\n"
     ]
    }
   ],
   "source": [
    "import tensorflow as tf\n",
    "import pandas as pd\n",
    "import numpy as np"
   ]
  },
  {
   "cell_type": "code",
   "execution_count": 2,
   "id": "da184e8d-d888-47a9-a0f4-d9dc72d8d2cc",
   "metadata": {},
   "outputs": [
    {
     "name": "stderr",
     "output_type": "stream",
     "text": [
      "[nltk_data] Downloading package stopwords to\n",
      "[nltk_data]     /home/garvthakral/nltk_data...\n",
      "[nltk_data]   Package stopwords is already up-to-date!\n"
     ]
    }
   ],
   "source": [
    "from nltk.tokenize import word_tokenize\n",
    "from nltk.corpus import stopwords\n",
    "import nltk\n",
    "nltk.download('stopwords')\n",
    "stop_words = set(stopwords.words('english'))"
   ]
  },
  {
   "cell_type": "code",
   "execution_count": 3,
   "id": "af976a98-8317-40a7-b882-934b458e4387",
   "metadata": {},
   "outputs": [],
   "source": [
    "directory = \"/home/garvthakral/Downloads/archive (2)\""
   ]
  },
  {
   "cell_type": "code",
   "execution_count": 4,
   "id": "2fad5994-3647-4093-80d4-ed6220905476",
   "metadata": {},
   "outputs": [
    {
     "name": "stdout",
     "output_type": "stream",
     "text": [
      "Found 8091 files belonging to 1 classes.\n"
     ]
    },
    {
     "name": "stderr",
     "output_type": "stream",
     "text": [
      "E0000 00:00:1749232210.316057  170782 cuda_executor.cc:1228] INTERNAL: CUDA Runtime error: Failed call to cudaGetRuntimeVersion: Error loading CUDA libraries. GPU will not be used.: Error loading CUDA libraries. GPU will not be used.\n",
      "W0000 00:00:1749232210.321188  170782 gpu_device.cc:2341] Cannot dlopen some GPU libraries. Please make sure the missing libraries mentioned above are installed properly if you would like to use GPU. Follow the guide at https://www.tensorflow.org/install/gpu for how to download and setup the required libraries for your platform.\n",
      "Skipping registering GPU devices...\n"
     ]
    }
   ],
   "source": [
    "dataset = tf.keras.preprocessing.image_dataset_from_directory(\n",
    "    directory,\n",
    "    color_mode = 'rgb',\n",
    "    batch_size = 32,\n",
    "    image_size = (256,256),\n",
    "    shuffle = True,\n",
    ")"
   ]
  },
  {
   "cell_type": "code",
   "execution_count": 7,
   "id": "0febce86-4a77-4cb8-bdd6-ecad902cda7f",
   "metadata": {},
   "outputs": [],
   "source": [
    "caption_df = pd.read_csv(\"/home/garvthakral/Downloads/archive (2)/captions.txt\")"
   ]
  },
  {
   "cell_type": "code",
   "execution_count": 5,
   "id": "b242cc72-d51d-4aeb-8793-7411898df485",
   "metadata": {},
   "outputs": [],
   "source": [
    "captions = []\n",
    "def tokenize_captions(caption):\n",
    "    tokenized_words = word_tokenize(caption)\n",
    "    filtered_tokens = [w for w in tokenized_words if not w.lower() in stop_words]\n",
    "    return filtered_tokens"
   ]
  },
  {
   "cell_type": "code",
   "execution_count": 11,
   "id": "29a1bdf9-9eac-4261-91b4-5801fdef0b88",
   "metadata": {},
   "outputs": [],
   "source": [
    "caption_df[\"tokens\"] = caption_df[\"caption\"].apply(tokenize_captions)"
   ]
  },
  {
   "cell_type": "code",
   "execution_count": 12,
   "id": "efa5be93-5100-48ca-bdd9-9c75f01f4968",
   "metadata": {},
   "outputs": [
    {
     "data": {
      "text/plain": [
       "0        None\n",
       "1        None\n",
       "2        None\n",
       "3        None\n",
       "4        None\n",
       "         ... \n",
       "40450    None\n",
       "40451    None\n",
       "40452    None\n",
       "40453    None\n",
       "40454    None\n",
       "Name: tokens, Length: 40455, dtype: object"
      ]
     },
     "execution_count": 12,
     "metadata": {},
     "output_type": "execute_result"
    }
   ],
   "source": [
    "token_list = []\n",
    "caption_df[\"tokens\"].apply(lambda x:token_list.append(x))"
   ]
  },
  {
   "cell_type": "code",
   "execution_count": 13,
   "id": "e4685dfb-4f56-486c-99b4-8bf03390f199",
   "metadata": {},
   "outputs": [],
   "source": [
    "joined_list = []\n",
    "for x in token_list:\n",
    "    for y in x:\n",
    "        joined_list.append(y)"
   ]
  },
  {
   "cell_type": "code",
   "execution_count": 17,
   "id": "1f8e7ac1-eba1-486a-89ab-45a5517cadd6",
   "metadata": {},
   "outputs": [],
   "source": [
    "token_frequency = {}\n",
    "for x in joined_list:\n",
    "    if x in token_frequency:\n",
    "        token_frequency[x] += 1\n",
    "    else:\n",
    "        token_frequency[x] = 0\n",
    "        \n",
    "filtered_frequency = {}\n",
    "for x in token_frequency:\n",
    "    if token_frequency[x] > 4:\n",
    "        filtered_frequency[x] = token_frequency[x]"
   ]
  },
  {
   "cell_type": "code",
   "execution_count": 24,
   "id": "3c83906e-b324-4f61-862f-9f8e1aa2aeef",
   "metadata": {},
   "outputs": [],
   "source": [
    "special_tokens = ['<PAD>', '<SOS>', '<EOS>', '<UNK>']\n",
    "word2Index = {token:idx for token,idx in enumerate(special_tokens)}\n",
    "index2Word = {idx:token for token,idx in word2Index.items()}"
   ]
  },
  {
   "cell_type": "code",
   "execution_count": 31,
   "id": "8837f30a-133e-4a54-960f-45627c244595",
   "metadata": {},
   "outputs": [],
   "source": [
    "vocabulary = ['<PAD>', '<SOS>', '<EOS>', '<UNK>']  \n",
    "vocabulary += list(filtered_frequency.keys()) "
   ]
  },
  {
   "cell_type": "code",
   "execution_count": 46,
   "id": "f04f29c1-4978-4c63-9ffd-6c477ed7b2f6",
   "metadata": {},
   "outputs": [],
   "source": [
    "word2idx = {word: idx for idx, word in enumerate(vocabulary)}\n",
    "idx2word = {idx: word for word, idx in word2idx.items()}"
   ]
  },
  {
   "cell_type": "code",
   "execution_count": 51,
   "id": "f74adc59-aba7-4c0c-8c80-fc6581a31a75",
   "metadata": {},
   "outputs": [],
   "source": [
    "def caption_to_index(caption):\n",
    "    caption_list = [word2idx['<SOS>']]  \n",
    "    for x in caption:\n",
    "        if x in word2idx:\n",
    "            caption_list.append(word2idx[x])\n",
    "        else:\n",
    "            caption_list.append(word2idx['<UNK>'])  \n",
    "    caption_list.append(word2idx['<EOS>'])  \n",
    "    return caption_list"
   ]
  },
  {
   "cell_type": "code",
   "execution_count": 53,
   "id": "53ab3a12-9202-4182-8cc9-2eedc3bca572",
   "metadata": {},
   "outputs": [],
   "source": [
    "caption_df[\"tokens_ind\"] = caption_df[\"tokens\"].apply(caption_to_index)"
   ]
  },
  {
   "cell_type": "code",
   "execution_count": 56,
   "id": "1b61b2f6-18ed-4a6d-9ef6-321f33cb36ef",
   "metadata": {},
   "outputs": [],
   "source": [
    "from tensorflow.keras.preprocessing.sequence import pad_sequences\n",
    "\n",
    "max_length = 50\n",
    "\n",
    "caption_df[\"padded\"] = pad_sequences(caption_df[\"tokens_ind\"], maxlen=max_length, padding='post', value=word2idx['<PAD>']).tolist()\n"
   ]
  },
  {
   "cell_type": "code",
   "execution_count": 57,
   "id": "269f547e-383a-4230-b4ef-bc9c38dca0fa",
   "metadata": {},
   "outputs": [
    {
     "data": {
      "text/html": [
       "<div>\n",
       "<style scoped>\n",
       "    .dataframe tbody tr th:only-of-type {\n",
       "        vertical-align: middle;\n",
       "    }\n",
       "\n",
       "    .dataframe tbody tr th {\n",
       "        vertical-align: top;\n",
       "    }\n",
       "\n",
       "    .dataframe thead th {\n",
       "        text-align: right;\n",
       "    }\n",
       "</style>\n",
       "<table border=\"1\" class=\"dataframe\">\n",
       "  <thead>\n",
       "    <tr style=\"text-align: right;\">\n",
       "      <th></th>\n",
       "      <th>image</th>\n",
       "      <th>caption</th>\n",
       "      <th>tokens</th>\n",
       "      <th>tokens_ind</th>\n",
       "      <th>padded</th>\n",
       "    </tr>\n",
       "  </thead>\n",
       "  <tbody>\n",
       "    <tr>\n",
       "      <th>0</th>\n",
       "      <td>1000268201_693b08cb0e.jpg</td>\n",
       "      <td>A child in a pink dress is climbing up a set o...</td>\n",
       "      <td>[child, pink, dress, climbing, set, stairs, en...</td>\n",
       "      <td>[1, 4, 5, 6, 7, 8, 9, 3, 10, 11, 2]</td>\n",
       "      <td>[1, 4, 5, 6, 7, 8, 9, 3, 10, 11, 2, 0, 0, 0, 0...</td>\n",
       "    </tr>\n",
       "    <tr>\n",
       "      <th>1</th>\n",
       "      <td>1000268201_693b08cb0e.jpg</td>\n",
       "      <td>A girl going into a wooden building .</td>\n",
       "      <td>[girl, going, wooden, building, .]</td>\n",
       "      <td>[1, 12, 13, 14, 15, 11, 2]</td>\n",
       "      <td>[1, 12, 13, 14, 15, 11, 2, 0, 0, 0, 0, 0, 0, 0...</td>\n",
       "    </tr>\n",
       "    <tr>\n",
       "      <th>2</th>\n",
       "      <td>1000268201_693b08cb0e.jpg</td>\n",
       "      <td>A little girl climbing into a wooden playhouse .</td>\n",
       "      <td>[little, girl, climbing, wooden, playhouse, .]</td>\n",
       "      <td>[1, 16, 12, 7, 14, 17, 11, 2]</td>\n",
       "      <td>[1, 16, 12, 7, 14, 17, 11, 2, 0, 0, 0, 0, 0, 0...</td>\n",
       "    </tr>\n",
       "    <tr>\n",
       "      <th>3</th>\n",
       "      <td>1000268201_693b08cb0e.jpg</td>\n",
       "      <td>A little girl climbing the stairs to her playh...</td>\n",
       "      <td>[little, girl, climbing, stairs, playhouse, .]</td>\n",
       "      <td>[1, 16, 12, 7, 9, 17, 11, 2]</td>\n",
       "      <td>[1, 16, 12, 7, 9, 17, 11, 2, 0, 0, 0, 0, 0, 0,...</td>\n",
       "    </tr>\n",
       "    <tr>\n",
       "      <th>4</th>\n",
       "      <td>1000268201_693b08cb0e.jpg</td>\n",
       "      <td>A little girl in a pink dress going into a woo...</td>\n",
       "      <td>[little, girl, pink, dress, going, wooden, cab...</td>\n",
       "      <td>[1, 16, 12, 5, 6, 13, 14, 3, 11, 2]</td>\n",
       "      <td>[1, 16, 12, 5, 6, 13, 14, 3, 11, 2, 0, 0, 0, 0...</td>\n",
       "    </tr>\n",
       "    <tr>\n",
       "      <th>...</th>\n",
       "      <td>...</td>\n",
       "      <td>...</td>\n",
       "      <td>...</td>\n",
       "      <td>...</td>\n",
       "      <td>...</td>\n",
       "    </tr>\n",
       "    <tr>\n",
       "      <th>40450</th>\n",
       "      <td>997722733_0cb5439472.jpg</td>\n",
       "      <td>A man in a pink shirt climbs a rock face</td>\n",
       "      <td>[man, pink, shirt, climbs, rock, face]</td>\n",
       "      <td>[1, 55, 5, 130, 82, 133, 164, 2]</td>\n",
       "      <td>[1, 55, 5, 130, 82, 133, 164, 2, 0, 0, 0, 0, 0...</td>\n",
       "    </tr>\n",
       "    <tr>\n",
       "      <th>40451</th>\n",
       "      <td>997722733_0cb5439472.jpg</td>\n",
       "      <td>A man is rock climbing high in the air .</td>\n",
       "      <td>[man, rock, climbing, high, air, .]</td>\n",
       "      <td>[1, 55, 133, 7, 410, 188, 11, 2]</td>\n",
       "      <td>[1, 55, 133, 7, 410, 188, 11, 2, 0, 0, 0, 0, 0...</td>\n",
       "    </tr>\n",
       "    <tr>\n",
       "      <th>40452</th>\n",
       "      <td>997722733_0cb5439472.jpg</td>\n",
       "      <td>A person in a red shirt climbing up a rock fac...</td>\n",
       "      <td>[person, red, shirt, climbing, rock, face, cov...</td>\n",
       "      <td>[1, 152, 81, 130, 7, 133, 164, 37, 3, 1476, 11...</td>\n",
       "      <td>[1, 152, 81, 130, 7, 133, 164, 37, 3, 1476, 11...</td>\n",
       "    </tr>\n",
       "    <tr>\n",
       "      <th>40453</th>\n",
       "      <td>997722733_0cb5439472.jpg</td>\n",
       "      <td>A rock climber in a red shirt .</td>\n",
       "      <td>[rock, climber, red, shirt, .]</td>\n",
       "      <td>[1, 133, 241, 81, 130, 11, 2]</td>\n",
       "      <td>[1, 133, 241, 81, 130, 11, 2, 0, 0, 0, 0, 0, 0...</td>\n",
       "    </tr>\n",
       "    <tr>\n",
       "      <th>40454</th>\n",
       "      <td>997722733_0cb5439472.jpg</td>\n",
       "      <td>A rock climber practices on a rock climbing wa...</td>\n",
       "      <td>[rock, climber, practices, rock, climbing, wal...</td>\n",
       "      <td>[1, 133, 241, 812, 133, 7, 118, 11, 2]</td>\n",
       "      <td>[1, 133, 241, 812, 133, 7, 118, 11, 2, 0, 0, 0...</td>\n",
       "    </tr>\n",
       "  </tbody>\n",
       "</table>\n",
       "<p>40455 rows × 5 columns</p>\n",
       "</div>"
      ],
      "text/plain": [
       "                           image  \\\n",
       "0      1000268201_693b08cb0e.jpg   \n",
       "1      1000268201_693b08cb0e.jpg   \n",
       "2      1000268201_693b08cb0e.jpg   \n",
       "3      1000268201_693b08cb0e.jpg   \n",
       "4      1000268201_693b08cb0e.jpg   \n",
       "...                          ...   \n",
       "40450   997722733_0cb5439472.jpg   \n",
       "40451   997722733_0cb5439472.jpg   \n",
       "40452   997722733_0cb5439472.jpg   \n",
       "40453   997722733_0cb5439472.jpg   \n",
       "40454   997722733_0cb5439472.jpg   \n",
       "\n",
       "                                                 caption  \\\n",
       "0      A child in a pink dress is climbing up a set o...   \n",
       "1                  A girl going into a wooden building .   \n",
       "2       A little girl climbing into a wooden playhouse .   \n",
       "3      A little girl climbing the stairs to her playh...   \n",
       "4      A little girl in a pink dress going into a woo...   \n",
       "...                                                  ...   \n",
       "40450           A man in a pink shirt climbs a rock face   \n",
       "40451           A man is rock climbing high in the air .   \n",
       "40452  A person in a red shirt climbing up a rock fac...   \n",
       "40453                    A rock climber in a red shirt .   \n",
       "40454  A rock climber practices on a rock climbing wa...   \n",
       "\n",
       "                                                  tokens  \\\n",
       "0      [child, pink, dress, climbing, set, stairs, en...   \n",
       "1                     [girl, going, wooden, building, .]   \n",
       "2         [little, girl, climbing, wooden, playhouse, .]   \n",
       "3         [little, girl, climbing, stairs, playhouse, .]   \n",
       "4      [little, girl, pink, dress, going, wooden, cab...   \n",
       "...                                                  ...   \n",
       "40450             [man, pink, shirt, climbs, rock, face]   \n",
       "40451                [man, rock, climbing, high, air, .]   \n",
       "40452  [person, red, shirt, climbing, rock, face, cov...   \n",
       "40453                     [rock, climber, red, shirt, .]   \n",
       "40454  [rock, climber, practices, rock, climbing, wal...   \n",
       "\n",
       "                                              tokens_ind  \\\n",
       "0                    [1, 4, 5, 6, 7, 8, 9, 3, 10, 11, 2]   \n",
       "1                             [1, 12, 13, 14, 15, 11, 2]   \n",
       "2                          [1, 16, 12, 7, 14, 17, 11, 2]   \n",
       "3                           [1, 16, 12, 7, 9, 17, 11, 2]   \n",
       "4                    [1, 16, 12, 5, 6, 13, 14, 3, 11, 2]   \n",
       "...                                                  ...   \n",
       "40450                   [1, 55, 5, 130, 82, 133, 164, 2]   \n",
       "40451                   [1, 55, 133, 7, 410, 188, 11, 2]   \n",
       "40452  [1, 152, 81, 130, 7, 133, 164, 37, 3, 1476, 11...   \n",
       "40453                      [1, 133, 241, 81, 130, 11, 2]   \n",
       "40454             [1, 133, 241, 812, 133, 7, 118, 11, 2]   \n",
       "\n",
       "                                                  padded  \n",
       "0      [1, 4, 5, 6, 7, 8, 9, 3, 10, 11, 2, 0, 0, 0, 0...  \n",
       "1      [1, 12, 13, 14, 15, 11, 2, 0, 0, 0, 0, 0, 0, 0...  \n",
       "2      [1, 16, 12, 7, 14, 17, 11, 2, 0, 0, 0, 0, 0, 0...  \n",
       "3      [1, 16, 12, 7, 9, 17, 11, 2, 0, 0, 0, 0, 0, 0,...  \n",
       "4      [1, 16, 12, 5, 6, 13, 14, 3, 11, 2, 0, 0, 0, 0...  \n",
       "...                                                  ...  \n",
       "40450  [1, 55, 5, 130, 82, 133, 164, 2, 0, 0, 0, 0, 0...  \n",
       "40451  [1, 55, 133, 7, 410, 188, 11, 2, 0, 0, 0, 0, 0...  \n",
       "40452  [1, 152, 81, 130, 7, 133, 164, 37, 3, 1476, 11...  \n",
       "40453  [1, 133, 241, 81, 130, 11, 2, 0, 0, 0, 0, 0, 0...  \n",
       "40454  [1, 133, 241, 812, 133, 7, 118, 11, 2, 0, 0, 0...  \n",
       "\n",
       "[40455 rows x 5 columns]"
      ]
     },
     "execution_count": 57,
     "metadata": {},
     "output_type": "execute_result"
    }
   ],
   "source": [
    "caption_df"
   ]
  }
 ],
 "metadata": {
  "kernelspec": {
   "display_name": "Python 3 (ipykernel)",
   "language": "python",
   "name": "python3"
  },
  "language_info": {
   "codemirror_mode": {
    "name": "ipython",
    "version": 3
   },
   "file_extension": ".py",
   "mimetype": "text/x-python",
   "name": "python",
   "nbconvert_exporter": "python",
   "pygments_lexer": "ipython3",
   "version": "3.12.7"
  }
 },
 "nbformat": 4,
 "nbformat_minor": 5
}
